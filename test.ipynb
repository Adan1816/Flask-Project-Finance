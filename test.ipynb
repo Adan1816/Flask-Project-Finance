{
 "cells": [
  {
   "cell_type": "code",
   "execution_count": 2,
   "id": "bab52306",
   "metadata": {},
   "outputs": [],
   "source": [
    "from cs50 import SQL\n",
    "db = SQL(\"sqlite:///finance.db\")\n",
    "\n",
    "symbol = \"GOOGL\"\n",
    "user_id = 1\n",
    "\n"
   ]
  },
  {
   "cell_type": "code",
   "execution_count": 3,
   "id": "a5a6da1e",
   "metadata": {},
   "outputs": [
    {
     "name": "stdout",
     "output_type": "stream",
     "text": [
      "<class 'list'>\n"
     ]
    }
   ],
   "source": [
    "stock_data = db.execute(\n",
    "                \"SELECT * FROM purchases WHERE symbol = ? AND user_id = ?\",\n",
    "                symbol, user_id\n",
    "            )\n",
    "print(type(stock_data))"
   ]
  },
  {
   "cell_type": "code",
   "execution_count": 8,
   "id": "8929609f",
   "metadata": {},
   "outputs": [
    {
     "name": "stdout",
     "output_type": "stream",
     "text": [
      "1\n"
     ]
    }
   ],
   "source": [
    "print(stock_data[0][\"user_id\"])"
   ]
  },
  {
   "cell_type": "code",
   "execution_count": null,
   "id": "004ef76a",
   "metadata": {},
   "outputs": [],
   "source": []
  }
 ],
 "metadata": {
  "kernelspec": {
   "display_name": ".venv",
   "language": "python",
   "name": "python3"
  },
  "language_info": {
   "codemirror_mode": {
    "name": "ipython",
    "version": 3
   },
   "file_extension": ".py",
   "mimetype": "text/x-python",
   "name": "python",
   "nbconvert_exporter": "python",
   "pygments_lexer": "ipython3",
   "version": "3.12.1"
  }
 },
 "nbformat": 4,
 "nbformat_minor": 5
}
